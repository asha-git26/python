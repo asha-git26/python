{
 "cells": [
  {
   "cell_type": "code",
   "execution_count": 26,
   "id": "f9402f73",
   "metadata": {},
   "outputs": [
    {
     "name": "stdout",
     "output_type": "stream",
     "text": [
      "City: Miami, Letters: 5\n",
      "City: Orlando, Letters: 7\n",
      "City: Tampa, Letters: 5\n"
     ]
    }
   ],
   "source": [
    "cities = ['Miami','Orlando','Tampa']\n",
    "length_cities = map(lambda x : \"City: {}, Letters: {}\".format(x,len(x)),cities)\n",
    "print('\\n'.join(length_cities))"
   ]
  },
  {
   "cell_type": "code",
   "execution_count": 34,
   "id": "71551a0b",
   "metadata": {},
   "outputs": [
    {
     "name": "stdout",
     "output_type": "stream",
     "text": [
      "Classics: 8.67 \n",
      "Trendy_flavors: 11.67 \n",
      "Kid_Friendly: 12.00 \n",
      "Seasonal_Specials: 11.33\n"
     ]
    }
   ],
   "source": [
    "Classics = ['VANILLA','CHOCOLATE','STRAWBERRY']\n",
    "Trendy_flavors = ['SALTED CARAMEL','MATCHA','COOKIES & CREAM']\n",
    "Kid_Friendly = ['RAINBOW SHERBET','BUBBLEGUM','COTTON CANDY']\n",
    "Seasonal_Specials = ['MANGO','PINEAPPLE-COCONUT','KEY LIME PIE']\n",
    "Avg_list = [sum(list(map(lambda x : len(x),Classics)))/len(Classics),sum(list(map(lambda x : len(x),Trendy_flavors)))/len(Trendy_flavors)\n",
    "                ,sum(list(map(lambda x : len(x),Kid_Friendly)))/len(Kid_Friendly)\n",
    "                ,sum(list(map(lambda x : len(x),Seasonal_Specials)))/len(Seasonal_Specials)]\n",
    "\n",
    "print(f\"Classics: {Avg_list[0]:.2f} \\nTrendy_flavors: {Avg_list[1]:.2f} \\nKid_Friendly: {Avg_list[2]:.2f} \\nSeasonal_Specials: {Avg_list[3]:.2f}\")"
   ]
  },
  {
   "cell_type": "code",
   "execution_count": 49,
   "id": "d0690920",
   "metadata": {},
   "outputs": [
    {
     "name": "stdout",
     "output_type": "stream",
     "text": [
      "['BUBBLEGUM', 'CHOCOLATE', 'COOKIES & CREAM', 'COTTON CANDY', 'KEY LIME PIE', 'MANGO', 'MATCHA', 'PINEAPPLE-COCONUT', 'RAINBOW SHERBET', 'SALTED CARAMEL', 'STRAWBERRY', 'VANILLA']\n"
     ]
    }
   ],
   "source": [
    "Fl_list = Classics+Trendy_flavors+Kid_Friendly+Seasonal_Specials\n",
    "Sorted_list = []\n",
    "for i in range(len(Fl_list)):\n",
    "    smallest = min(Fl_list, key=str.lower)\n",
    "    if smallest not in Sorted_list:\n",
    "        Sorted_list.append(smallest)\n",
    "    Fl_list.remove(smallest) \n",
    "print(Sorted_list)"
   ]
  },
  {
   "cell_type": "code",
   "execution_count": 69,
   "id": "17072284",
   "metadata": {},
   "outputs": [
    {
     "name": "stdout",
     "output_type": "stream",
     "text": [
      "2.25\n"
     ]
    }
   ],
   "source": [
    "Toppings={\n",
    "    'standard toppings':[['SPRINKLES','CRUSHED COOKIES','CHOCOLATE CHIPS'],0.5],\n",
    "    'premium toppings':[['FRESH FRUIT','WHIPPED CREAM','CARAMEL DRIZZLE','CHOCOLATE DRIZZLE','TOASTED COCONUT FLAKES'],0.75],\n",
    "    'speciality toppings':[['POP ROCKS','Tajin spice','gummy bears'],1.0] \n",
    "}\n",
    "flavors = ['chocolate chips', 'whipped cream', 'gummy bears']\n",
    "total_cost =[Toppings[j][1] for i in flavors for j in Toppings if i.upper() in [topping.upper() for topping in Toppings[j][0]]]\n",
    "print(sum(total_cost))"
   ]
  },
  {
   "cell_type": "code",
   "execution_count": 98,
   "id": "222e08b5",
   "metadata": {},
   "outputs": [
    {
     "name": "stdout",
     "output_type": "stream",
     "text": [
      "Most Expensive is triple scoop: 7.5 \n",
      "Least Expensive is single scoop: 3.0\n"
     ]
    }
   ],
   "source": [
    "Base={\n",
    "    'single scoop':3.00,\n",
    "    'double scoop':5.50,\n",
    "    'triple scoop':7.50\n",
    "}\n",
    "Base_tuple = tuple(Base.items())\n",
    "me = max(Base_tuple,key=lambda x: x[1])\n",
    "le = min(Base_tuple,key=lambda x: x[1])\n",
    "print(f\"Most Expensive is {me[0]}: {me[1]} \\nLeast Expensive is {le[0]}: {le[1]}\")"
   ]
  },
  {
   "cell_type": "code",
   "execution_count": 101,
   "id": "063d03b9",
   "metadata": {},
   "outputs": [
    {
     "name": "stdout",
     "output_type": "stream",
     "text": [
      "Flavour Input: matcha\n",
      "Seasonal_Specials\n"
     ]
    }
   ],
   "source": [
    "Classics=['VANILLA','CHOCOLATE','STRAWBERRY']\n",
    "Trendy_flavors=['SALTED CARAMEL','MATCHA','COOKIES & CREAM']\n",
    "Kid_Friendly=['RAINBOW SHERBET','BUBBLEGUM','COTTON CANDY']\n",
    "Seasonal_Specials=['MANGO','PINEAPPLE-COCONUT','KEY LIME PIE']\n",
    "x = input(\"Flavour Input: \")\n",
    "if x in Classics:\n",
    "    print('Calssics')\n",
    "elif x in Trendy_flavors:\n",
    "    print('Trendy_flavors')\n",
    "elif x in Kid_Friendly:\n",
    "    print('Kid_Friendly')\n",
    "else:\n",
    "    print('Seasonal_Specials')"
   ]
  },
  {
   "cell_type": "code",
   "execution_count": 104,
   "id": "86bbb704",
   "metadata": {},
   "outputs": [
    {
     "name": "stdout",
     "output_type": "stream",
     "text": [
      "Enter city name:tampa\n",
      "valid city\n"
     ]
    }
   ],
   "source": [
    "city=input(\"Enter city name:\")\n",
    "if city.lower() in [city.lower() for city in cities]:\n",
    "    print(\"valid city\")\n",
    "else:\n",
    "    print(\"Invalid city\")"
   ]
  },
  {
   "cell_type": "code",
   "execution_count": 120,
   "id": "367f7833",
   "metadata": {},
   "outputs": [
    {
     "name": "stdout",
     "output_type": "stream",
     "text": [
      "Vanilla + chocolate chips: $3.50\n",
      "chocolate + crushed cookies: $3.50\n",
      "strawberry + whipped Cream + Fresh fruit: $4.50\n",
      "Matcha + Chocolate Drizzle + Toasted Coconut FLAKES: $4.50\n",
      "Salted Caramel + CRUSHED COOKIES + Caramel DRIZZLE: $4.25\n",
      "Cookies & Cream + Chocolate + Crushed Cookies: $3.50\n",
      "SPRINKLES + Sprinkles + Gummy Bears: $4.50\n",
      "Bubblegum + Mini Marshmallows + COTTON CANDY: $3.00\n",
      "Cotton Candy + Pop Rocks: $4.00\n",
      "Mango + Tajin Spice: $4.00\n",
      "Pineapple-Coconut + Crushed CHIPS: $3.00\n",
      "Key Lime Pie + Crushed CHIPS + Whipped Cream: $3.75\n"
     ]
    }
   ],
   "source": [
    "toppings = {\n",
    "    'standard toppings': [['SPRINKLES', 'CRUSHED COOKIES', 'CHOCOLATE CHIPS'], 0.5],\n",
    "    'premium toppings': [['FRESH FRUIT', 'WHIPPED CREAM', 'CARAMEL DRIZZLE', \n",
    "                          'CHOCOLATE DRIZZLE', 'TOASTED COCONUT FLAKES'], 0.75],\n",
    "    'speciality toppings': [['POP ROCKS', 'Tajin spice', 'gummy bears'], 1.0]\n",
    "}\n",
    "\n",
    "pairings = [\n",
    "    ['Vanilla', 'chocolate chips'],\n",
    "    ['chocolate', 'crushed cookies'],\n",
    "    ['strawberry', 'whipped Cream', 'Fresh fruit'],\n",
    "    ['Matcha', 'Chocolate Drizzle', 'Toasted Coconut FLAKES'],\n",
    "    ['Salted Caramel', 'CRUSHED COOKIES', 'Caramel DRIZZLE'],\n",
    "    ['Cookies & Cream', 'Chocolate', 'Crushed Cookies'],\n",
    "    ['SPRINKLES', 'Sprinkles', 'Gummy Bears'],\n",
    "    ['Bubblegum', 'Mini Marshmallows', 'COTTON CANDY'],\n",
    "    ['Cotton Candy', 'Pop Rocks'],\n",
    "    ['Mango', 'Tajin Spice'],\n",
    "    ['Pineapple-Coconut', 'Crushed CHIPS'],\n",
    "    ['Key Lime Pie', 'Crushed CHIPS', 'Whipped Cream']\n",
    "]\n",
    "PRICING = []\n",
    "for pairing in pairings:\n",
    "    base_flavor = pairing[0]\n",
    "    total_price = 3.00\n",
    "    for topping in pairing[1:]:\n",
    "        for category, (topping_list, price) in toppings.items():\n",
    "            if topping.upper() in [t.upper() for t in topping_list]:\n",
    "                total_price += price\n",
    "    toppings_str = \" + \".join(pairing[1:]) \n",
    "    PRICING.append(f\"{base_flavor} + {toppings_str}: ${total_price:.2f}\")\n",
    "for price in PRICING:\n",
    "    print(price)"
   ]
  },
  {
   "cell_type": "code",
   "execution_count": null,
   "id": "6422f0ba",
   "metadata": {},
   "outputs": [],
   "source": []
  },
  {
   "cell_type": "code",
   "execution_count": null,
   "id": "08fe0766",
   "metadata": {},
   "outputs": [],
   "source": []
  }
 ],
 "metadata": {
  "kernelspec": {
   "display_name": "Python 3 (ipykernel)",
   "language": "python",
   "name": "python3"
  },
  "language_info": {
   "codemirror_mode": {
    "name": "ipython",
    "version": 3
   },
   "file_extension": ".py",
   "mimetype": "text/x-python",
   "name": "python",
   "nbconvert_exporter": "python",
   "pygments_lexer": "ipython3",
   "version": "3.11.5"
  }
 },
 "nbformat": 4,
 "nbformat_minor": 5
}
