{
 "cells": [
  {
   "cell_type": "code",
   "execution_count": 26,
   "id": "f9402f73",
   "metadata": {},
   "outputs": [
    {
     "name": "stdout",
     "output_type": "stream",
     "text": [
      "City: Miami, Letters: 5\n",
      "City: Orlando, Letters: 7\n",
      "City: Tampa, Letters: 5\n"
     ]
    }
   ],
   "source": [
    "cities = ['Miami','Orlando','Tampa']\n",
    "length_cities = map(lambda x : \"City: {}, Letters: {}\".format(x,len(x)),cities)\n",
    "print('\\n'.join(length_cities))"
   ]
  },
  {
   "cell_type": "code",
   "execution_count": 34,
   "id": "71551a0b",
   "metadata": {},
   "outputs": [
    {
     "name": "stdout",
     "output_type": "stream",
     "text": [
      "Classics: 8.67 \n",
      "Trendy_flavors: 11.67 \n",
      "Kid_Friendly: 12.00 \n",
      "Seasonal_Specials: 11.33\n"
     ]
    }
   ],
   "source": [
    "Classics = ['VANILLA','CHOCOLATE','STRAWBERRY']\n",
    "Trendy_flavors = ['SALTED CARAMEL','MATCHA','COOKIES & CREAM']\n",
    "Kid_Friendly = ['RAINBOW SHERBET','BUBBLEGUM','COTTON CANDY']\n",
    "Seasonal_Specials = ['MANGO','PINEAPPLE-COCONUT','KEY LIME PIE']\n",
    "Avg_list = [sum(list(map(lambda x : len(x),Classics)))/len(Classics),sum(list(map(lambda x : len(x),Trendy_flavors)))/len(Trendy_flavors)\n",
    "                ,sum(list(map(lambda x : len(x),Kid_Friendly)))/len(Kid_Friendly)\n",
    "                ,sum(list(map(lambda x : len(x),Seasonal_Specials)))/len(Seasonal_Specials)]\n",
    "\n",
    "print(f\"Classics: {Avg_list[0]:.2f} \\nTrendy_flavors: {Avg_list[1]:.2f} \\nKid_Friendly: {Avg_list[2]:.2f} \\nSeasonal_Specials: {Avg_list[3]:.2f}\")"
   ]
  },
  {
   "cell_type": "code",
   "execution_count": 49,
   "id": "d0690920",
   "metadata": {},
   "outputs": [
    {
     "name": "stdout",
     "output_type": "stream",
     "text": [
      "['BUBBLEGUM', 'CHOCOLATE', 'COOKIES & CREAM', 'COTTON CANDY', 'KEY LIME PIE', 'MANGO', 'MATCHA', 'PINEAPPLE-COCONUT', 'RAINBOW SHERBET', 'SALTED CARAMEL', 'STRAWBERRY', 'VANILLA']\n"
     ]
    }
   ],
   "source": [
    "Fl_list = Classics+Trendy_flavors+Kid_Friendly+Seasonal_Specials\n",
    "Sorted_list = []\n",
    "for i in range(len(Fl_list)):\n",
    "    smallest = min(Fl_list, key=str.lower)\n",
    "    if smallest not in Sorted_list:\n",
    "        Sorted_list.append(smallest)\n",
    "    Fl_list.remove(smallest) \n",
    "print(Sorted_list)"
   ]
  },
  {
   "cell_type": "code",
   "execution_count": 69,
   "id": "17072284",
   "metadata": {},
   "outputs": [
    {
     "name": "stdout",
     "output_type": "stream",
     "text": [
      "2.25\n"
     ]
    }
   ],
   "source": [
    "Toppings={\n",
    "    'standard toppings':[['SPRINKLES','CRUSHED COOKIES','CHOCOLATE CHIPS'],0.5],\n",
    "    'premium toppings':[['FRESH FRUIT','WHIPPED CREAM','CARAMEL DRIZZLE','CHOCOLATE DRIZZLE','TOASTED COCONUT FLAKES'],0.75],\n",
    "    'speciality toppings':[['POP ROCKS','Tajin spice','gummy bears'],1.0] \n",
    "}\n",
    "flavors = ['chocolate chips', 'whipped cream', 'gummy bears']\n",
    "total_cost =[Toppings[j][1] for i in flavors for j in Toppings if i.upper() in [topping.upper() for topping in Toppings[j][0]]]\n",
    "print(sum(total_cost))"
   ]
  },
  {
   "cell_type": "code",
   "execution_count": 98,
   "id": "222e08b5",
   "metadata": {},
   "outputs": [
    {
     "name": "stdout",
     "output_type": "stream",
     "text": [
      "Most Expensive is triple scoop: 7.5 \n",
      "Least Expensive is single scoop: 3.0\n"
     ]
    }
   ],
   "source": [
    "Base={\n",
    "    'single scoop':3.00,\n",
    "    'double scoop':5.50,\n",
    "    'triple scoop':7.50\n",
    "}\n",
    "Base_tuple = tuple(Base.items())\n",
    "me = max(Base_tuple,key=lambda x: x[1])\n",
    "le = min(Base_tuple,key=lambda x: x[1])\n",
    "print(f\"Most Expensive is {me[0]}: {me[1]} \\nLeast Expensive is {le[0]}: {le[1]}\")"
   ]
  },
  {
   "cell_type": "code",
   "execution_count": 101,
   "id": "063d03b9",
   "metadata": {},
   "outputs": [
    {
     "name": "stdout",
     "output_type": "stream",
     "text": [
      "Flavour Input: matcha\n",
      "Seasonal_Specials\n"
     ]
    }
   ],
   "source": [
    "Classics=['VANILLA','CHOCOLATE','STRAWBERRY']\n",
    "Trendy_flavors=['SALTED CARAMEL','MATCHA','COOKIES & CREAM']\n",
    "Kid_Friendly=['RAINBOW SHERBET','BUBBLEGUM','COTTON CANDY']\n",
    "Seasonal_Specials=['MANGO','PINEAPPLE-COCONUT','KEY LIME PIE']\n",
    "x = input(\"Flavour Input: \")\n",
    "if x in Classics:\n",
    "    print('Calssics')\n",
    "elif x in Trendy_flavors:\n",
    "    print('Trendy_flavors')\n",
    "elif x in Kid_Friendly:\n",
    "    print('Kid_Friendly')\n",
    "else:\n",
    "    print('Seasonal_Specials')"
   ]
  },
  {
   "cell_type": "code",
   "execution_count": 104,
   "id": "86bbb704",
   "metadata": {},
   "outputs": [
    {
     "name": "stdout",
     "output_type": "stream",
     "text": [
      "Enter city name:tampa\n",
      "valid city\n"
     ]
    }
   ],
   "source": [
    "city=input(\"Enter city name:\")\n",
    "if city.lower() in [city.lower() for city in cities]:\n",
    "    print(\"valid city\")\n",
    "else:\n",
    "    print(\"Invalid city\")"
   ]
  },
  {
   "cell_type": "code",
   "execution_count": 120,
   "id": "367f7833",
   "metadata": {},
   "outputs": [
    {
     "name": "stdout",
     "output_type": "stream",
     "text": [
      "Vanilla + chocolate chips: $3.50\n",
      "chocolate + crushed cookies: $3.50\n",
      "strawberry + whipped Cream + Fresh fruit: $4.50\n",
      "Matcha + Chocolate Drizzle + Toasted Coconut FLAKES: $4.50\n",
      "Salted Caramel + CRUSHED COOKIES + Caramel DRIZZLE: $4.25\n",
      "Cookies & Cream + Chocolate + Crushed Cookies: $3.50\n",
      "SPRINKLES + Sprinkles + Gummy Bears: $4.50\n",
      "Bubblegum + Mini Marshmallows + COTTON CANDY: $3.00\n",
      "Cotton Candy + Pop Rocks: $4.00\n",
      "Mango + Tajin Spice: $4.00\n",
      "Pineapple-Coconut + Crushed CHIPS: $3.00\n",
      "Key Lime Pie + Crushed CHIPS + Whipped Cream: $3.75\n"
     ]
    }
   ],
   "source": [
    "toppings = {\n",
    "    'standard toppings': [['SPRINKLES', 'CRUSHED COOKIES', 'CHOCOLATE CHIPS'], 0.5],\n",
    "    'premium toppings': [['FRESH FRUIT', 'WHIPPED CREAM', 'CARAMEL DRIZZLE', \n",
    "                          'CHOCOLATE DRIZZLE', 'TOASTED COCONUT FLAKES'], 0.75],\n",
    "    'speciality toppings': [['POP ROCKS', 'Tajin spice', 'gummy bears'], 1.0]\n",
    "}\n",
    "\n",
    "pairings = [\n",
    "    ['Vanilla', 'chocolate chips'],\n",
    "    ['chocolate', 'crushed cookies'],\n",
    "    ['strawberry', 'whipped Cream', 'Fresh fruit'],\n",
    "    ['Matcha', 'Chocolate Drizzle', 'Toasted Coconut FLAKES'],\n",
    "    ['Salted Caramel', 'CRUSHED COOKIES', 'Caramel DRIZZLE'],\n",
    "    ['Cookies & Cream', 'Chocolate', 'Crushed Cookies'],\n",
    "    ['SPRINKLES', 'Sprinkles', 'Gummy Bears'],\n",
    "    ['Bubblegum', 'Mini Marshmallows', 'COTTON CANDY'],\n",
    "    ['Cotton Candy', 'Pop Rocks'],\n",
    "    ['Mango', 'Tajin Spice'],\n",
    "    ['Pineapple-Coconut', 'Crushed CHIPS'],\n",
    "    ['Key Lime Pie', 'Crushed CHIPS', 'Whipped Cream']\n",
    "]\n",
    "PRICING = []\n",
    "for pairing in pairings:\n",
    "    base_flavor = pairing[0]\n",
    "    total_price = 3.00\n",
    "    for topping in pairing[1:]:\n",
    "        for category, (topping_list, price) in toppings.items():\n",
    "            if topping.upper() in [t.upper() for t in topping_list]:\n",
    "                total_price += price\n",
    "    toppings_str = \" + \".join(pairing[1:]) \n",
    "    PRICING.append(f\"{base_flavor} + {toppings_str}: ${total_price:.2f}\")\n",
    "for price in PRICING:\n",
    "    print(price)"
   ]
  },
  {
   "cell_type": "code",
   "execution_count": 31,
   "id": "6422f0ba",
   "metadata": {},
   "outputs": [
    {
     "name": "stdout",
     "output_type": "stream",
     "text": [
      "Please select the base scoop: triple scoop\n",
      "Please select from following: 1.Small 2.Medium 3.Large large\n",
      "Please enter Pre_packed you need (comma-separated): ice cream bars, popsicles, mini tubes\n",
      "Base Scoop price is: 7.5\n",
      "Pre-Packed value of large size for ['ice cream bars', 'popsicles', 'mini tubes'] is: 10.75\n",
      "Your Order Total: 18.25\n"
     ]
    }
   ],
   "source": [
    "base={\n",
    "    'single scoop':3.00,\n",
    "    'double scoop':5.50,\n",
    "    'triple scoop':7.50\n",
    "}\n",
    "pre_packed={\n",
    "    'ice cream bars':[2.5,3.0,3.5],\n",
    "    'popsicles':[2.0,2.5,2.75],\n",
    "    'mini tubes':[3.5,4.0,4.5]\n",
    "\n",
    "}\n",
    "Base_scoop = input(\"Please select the base scoop: \")\n",
    "Base_Scoop_Value = base[Base_scoop]\n",
    "Size = input(\"Please select from following: 1.Small 2.Medium 3.Large \")\n",
    "Type = [i.strip() for i in input(\"Please enter Pre_packed you need (comma-separated): \").split(\",\")]\n",
    "def myfunction(Type_List):\n",
    "    if Size == 'small':\n",
    "        Price = sum(list(map(lambda x:pre_packed[x][0], Type_List)))\n",
    "    elif Size == 'medium':\n",
    "        Price = sum(list(map(lambda x:pre_packed[x][1], Type_List)))\n",
    "    elif Size == 'large':\n",
    "        Price = sum(list(map(lambda x:pre_packed[x][2], Type_List)))\n",
    "    else:\n",
    "        print(\"Invalid Size!!!\")\n",
    "    Total_Price = Price + Base_Scoop_Value\n",
    "    print(f\"Base Scoop price is: {Base_Scoop_Value}\")\n",
    "    print(f\"Pre-Packed value of {Size} size for {Type_List} is: {Price}\")\n",
    "    print(f\"Your Order Total: {Total_Price}\")\n",
    "myfunction(Type)"
   ]
  },
  {
   "cell_type": "code",
   "execution_count": 46,
   "id": "6ae625cd",
   "metadata": {},
   "outputs": [
    {
     "name": "stdout",
     "output_type": "stream",
     "text": [
      "Flavor: BUBBLEGUM\n",
      "    BUBBLEGUM -> SPRINKLES\n",
      "    BUBBLEGUM -> CRUSHED COOKIES\n",
      "    BUBBLEGUM -> CHOCOLATE CHIPS\n",
      "    BUBBLEGUM -> FRESH FRUIT\n",
      "    BUBBLEGUM -> WHIPPED CREAM\n",
      "    BUBBLEGUM -> CARAMEL DRIZZLE\n",
      "    BUBBLEGUM -> CHOCOLATE DRIZZLE\n",
      "    BUBBLEGUM -> TOASTED COCONUT FLAKES\n",
      "    BUBBLEGUM -> POP ROCKS\n",
      "    BUBBLEGUM -> Tajin spice\n",
      "    BUBBLEGUM -> gummy bears\n",
      "----------------------------------------\n",
      "Flavor: CHOCOLATE\n",
      "    CHOCOLATE -> SPRINKLES\n",
      "    CHOCOLATE -> CRUSHED COOKIES\n",
      "    CHOCOLATE -> CHOCOLATE CHIPS\n",
      "    CHOCOLATE -> FRESH FRUIT\n",
      "    CHOCOLATE -> WHIPPED CREAM\n",
      "    CHOCOLATE -> CARAMEL DRIZZLE\n",
      "    CHOCOLATE -> CHOCOLATE DRIZZLE\n",
      "    CHOCOLATE -> TOASTED COCONUT FLAKES\n",
      "    CHOCOLATE -> POP ROCKS\n",
      "    CHOCOLATE -> Tajin spice\n",
      "    CHOCOLATE -> gummy bears\n",
      "----------------------------------------\n",
      "Flavor: COOKIES & CREAM\n",
      "    COOKIES & CREAM -> SPRINKLES\n",
      "    COOKIES & CREAM -> CRUSHED COOKIES\n",
      "    COOKIES & CREAM -> CHOCOLATE CHIPS\n",
      "    COOKIES & CREAM -> FRESH FRUIT\n",
      "    COOKIES & CREAM -> WHIPPED CREAM\n",
      "    COOKIES & CREAM -> CARAMEL DRIZZLE\n",
      "    COOKIES & CREAM -> CHOCOLATE DRIZZLE\n",
      "    COOKIES & CREAM -> TOASTED COCONUT FLAKES\n",
      "    COOKIES & CREAM -> POP ROCKS\n",
      "    COOKIES & CREAM -> Tajin spice\n",
      "    COOKIES & CREAM -> gummy bears\n",
      "----------------------------------------\n",
      "Flavor: COTTON CANDY\n",
      "    COTTON CANDY -> SPRINKLES\n",
      "    COTTON CANDY -> CRUSHED COOKIES\n",
      "    COTTON CANDY -> CHOCOLATE CHIPS\n",
      "    COTTON CANDY -> FRESH FRUIT\n",
      "    COTTON CANDY -> WHIPPED CREAM\n",
      "    COTTON CANDY -> CARAMEL DRIZZLE\n",
      "    COTTON CANDY -> CHOCOLATE DRIZZLE\n",
      "    COTTON CANDY -> TOASTED COCONUT FLAKES\n",
      "    COTTON CANDY -> POP ROCKS\n",
      "    COTTON CANDY -> Tajin spice\n",
      "    COTTON CANDY -> gummy bears\n",
      "----------------------------------------\n",
      "Flavor: KEY LIME PIE\n",
      "    KEY LIME PIE -> SPRINKLES\n",
      "    KEY LIME PIE -> CRUSHED COOKIES\n",
      "    KEY LIME PIE -> CHOCOLATE CHIPS\n",
      "    KEY LIME PIE -> FRESH FRUIT\n",
      "    KEY LIME PIE -> WHIPPED CREAM\n",
      "    KEY LIME PIE -> CARAMEL DRIZZLE\n",
      "    KEY LIME PIE -> CHOCOLATE DRIZZLE\n",
      "    KEY LIME PIE -> TOASTED COCONUT FLAKES\n",
      "    KEY LIME PIE -> POP ROCKS\n",
      "    KEY LIME PIE -> Tajin spice\n",
      "    KEY LIME PIE -> gummy bears\n",
      "----------------------------------------\n",
      "Flavor: MANGO\n",
      "    MANGO -> SPRINKLES\n",
      "    MANGO -> CRUSHED COOKIES\n",
      "    MANGO -> CHOCOLATE CHIPS\n",
      "    MANGO -> FRESH FRUIT\n",
      "    MANGO -> WHIPPED CREAM\n",
      "    MANGO -> CARAMEL DRIZZLE\n",
      "    MANGO -> CHOCOLATE DRIZZLE\n",
      "    MANGO -> TOASTED COCONUT FLAKES\n",
      "    MANGO -> POP ROCKS\n",
      "    MANGO -> Tajin spice\n",
      "    MANGO -> gummy bears\n",
      "----------------------------------------\n",
      "Flavor: MATCHA\n",
      "    MATCHA -> SPRINKLES\n",
      "    MATCHA -> CRUSHED COOKIES\n",
      "    MATCHA -> CHOCOLATE CHIPS\n",
      "    MATCHA -> FRESH FRUIT\n",
      "    MATCHA -> WHIPPED CREAM\n",
      "    MATCHA -> CARAMEL DRIZZLE\n",
      "    MATCHA -> CHOCOLATE DRIZZLE\n",
      "    MATCHA -> TOASTED COCONUT FLAKES\n",
      "    MATCHA -> POP ROCKS\n",
      "    MATCHA -> Tajin spice\n",
      "    MATCHA -> gummy bears\n",
      "----------------------------------------\n",
      "Flavor: PINEAPPLE-COCONUT\n",
      "    PINEAPPLE-COCONUT -> SPRINKLES\n",
      "    PINEAPPLE-COCONUT -> CRUSHED COOKIES\n",
      "    PINEAPPLE-COCONUT -> CHOCOLATE CHIPS\n",
      "    PINEAPPLE-COCONUT -> FRESH FRUIT\n",
      "    PINEAPPLE-COCONUT -> WHIPPED CREAM\n",
      "    PINEAPPLE-COCONUT -> CARAMEL DRIZZLE\n",
      "    PINEAPPLE-COCONUT -> CHOCOLATE DRIZZLE\n",
      "    PINEAPPLE-COCONUT -> TOASTED COCONUT FLAKES\n",
      "    PINEAPPLE-COCONUT -> POP ROCKS\n",
      "    PINEAPPLE-COCONUT -> Tajin spice\n",
      "    PINEAPPLE-COCONUT -> gummy bears\n",
      "----------------------------------------\n",
      "Flavor: RAINBOW SHERBET\n",
      "    RAINBOW SHERBET -> SPRINKLES\n",
      "    RAINBOW SHERBET -> CRUSHED COOKIES\n",
      "    RAINBOW SHERBET -> CHOCOLATE CHIPS\n",
      "    RAINBOW SHERBET -> FRESH FRUIT\n",
      "    RAINBOW SHERBET -> WHIPPED CREAM\n",
      "    RAINBOW SHERBET -> CARAMEL DRIZZLE\n",
      "    RAINBOW SHERBET -> CHOCOLATE DRIZZLE\n",
      "    RAINBOW SHERBET -> TOASTED COCONUT FLAKES\n",
      "    RAINBOW SHERBET -> POP ROCKS\n",
      "    RAINBOW SHERBET -> Tajin spice\n",
      "    RAINBOW SHERBET -> gummy bears\n",
      "----------------------------------------\n",
      "Flavor: SALTED CARAMEL\n",
      "    SALTED CARAMEL -> SPRINKLES\n",
      "    SALTED CARAMEL -> CRUSHED COOKIES\n",
      "    SALTED CARAMEL -> CHOCOLATE CHIPS\n",
      "    SALTED CARAMEL -> FRESH FRUIT\n",
      "    SALTED CARAMEL -> WHIPPED CREAM\n",
      "    SALTED CARAMEL -> CARAMEL DRIZZLE\n",
      "    SALTED CARAMEL -> CHOCOLATE DRIZZLE\n",
      "    SALTED CARAMEL -> TOASTED COCONUT FLAKES\n",
      "    SALTED CARAMEL -> POP ROCKS\n",
      "    SALTED CARAMEL -> Tajin spice\n",
      "    SALTED CARAMEL -> gummy bears\n",
      "----------------------------------------\n",
      "Flavor: STRAWBERRY\n",
      "    STRAWBERRY -> SPRINKLES\n",
      "    STRAWBERRY -> CRUSHED COOKIES\n",
      "    STRAWBERRY -> CHOCOLATE CHIPS\n",
      "    STRAWBERRY -> FRESH FRUIT\n",
      "    STRAWBERRY -> WHIPPED CREAM\n",
      "    STRAWBERRY -> CARAMEL DRIZZLE\n",
      "    STRAWBERRY -> CHOCOLATE DRIZZLE\n",
      "    STRAWBERRY -> TOASTED COCONUT FLAKES\n",
      "    STRAWBERRY -> POP ROCKS\n",
      "    STRAWBERRY -> Tajin spice\n",
      "    STRAWBERRY -> gummy bears\n",
      "----------------------------------------\n",
      "Flavor: VANILLA\n",
      "    VANILLA -> SPRINKLES\n",
      "    VANILLA -> CRUSHED COOKIES\n",
      "    VANILLA -> CHOCOLATE CHIPS\n",
      "    VANILLA -> FRESH FRUIT\n",
      "    VANILLA -> WHIPPED CREAM\n",
      "    VANILLA -> CARAMEL DRIZZLE\n",
      "    VANILLA -> CHOCOLATE DRIZZLE\n",
      "    VANILLA -> TOASTED COCONUT FLAKES\n",
      "    VANILLA -> POP ROCKS\n",
      "    VANILLA -> Tajin spice\n",
      "    VANILLA -> gummy bears\n",
      "----------------------------------------\n"
     ]
    }
   ],
   "source": [
    "IceCream_Flavors=['BUBBLEGUM', 'CHOCOLATE', 'COOKIES & CREAM', 'COTTON CANDY', 'KEY LIME PIE', 'MANGO', 'MATCHA', 'PINEAPPLE-COCONUT', 'RAINBOW SHERBET', 'SALTED CARAMEL', 'STRAWBERRY', 'VANILLA']\n",
    "IceCream_Toppings=['SPRINKLES','CRUSHED COOKIES','CHOCOLATE CHIPS','FRESH FRUIT','WHIPPED CREAM','CARAMEL DRIZZLE','CHOCOLATE DRIZZLE','TOASTED COCONUT FLAKES','POP ROCKS','Tajin spice','gummy bears']\n",
    "Combinations = [f\"Flavor: {flavor}\\n\" + \"\\n\".join([f\"    {flavor} -> {topping}\" for topping in IceCream_Toppings]) \n",
    "                + \"\\n\" + \"-\" * 40 for flavor in IceCream_Flavors]\n",
    "print(\"\\n\".join(Combinations))"
   ]
  },
  {
   "cell_type": "code",
   "execution_count": null,
   "id": "08fe0766",
   "metadata": {},
   "outputs": [],
   "source": []
  }
 ],
 "metadata": {
  "kernelspec": {
   "display_name": "Python 3 (ipykernel)",
   "language": "python",
   "name": "python3"
  },
  "language_info": {
   "codemirror_mode": {
    "name": "ipython",
    "version": 3
   },
   "file_extension": ".py",
   "mimetype": "text/x-python",
   "name": "python",
   "nbconvert_exporter": "python",
   "pygments_lexer": "ipython3",
   "version": "3.11.5"
  }
 },
 "nbformat": 4,
 "nbformat_minor": 5
}
