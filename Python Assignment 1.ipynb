{
 "cells": [
  {
   "cell_type": "code",
   "execution_count": 4,
   "id": "867a3206",
   "metadata": {},
   "outputs": [
    {
     "name": "stdout",
     "output_type": "stream",
     "text": [
      "Enter list of numbers: 1,2,3,4,5\n",
      "1 -> Odd\n",
      "2 -> Even\n",
      "3 -> Odd\n",
      "4 -> Even\n",
      "5 -> Odd\n"
     ]
    }
   ],
   "source": [
    "n = [int(x) for x in input(\"Enter list of numbers: \").split(\",\")]\n",
    "for num in n:\n",
    "    if num%2 == 0:\n",
    "        print(f\"{num} -> Even\")\n",
    "    else:\n",
    "        print(f\"{num} -> Odd\")"
   ]
  },
  {
   "cell_type": "code",
   "execution_count": 6,
   "id": "45c39532",
   "metadata": {},
   "outputs": [
    {
     "name": "stdout",
     "output_type": "stream",
     "text": [
      "Enter list of numbers: -1,-1999,0,2000,1\n",
      "-1 -> Negative Number\n",
      "-1999 -> Negative Number\n",
      "It's a Zero\n",
      "2000 -> Positive Number\n",
      "1 -> Positive Number\n"
     ]
    }
   ],
   "source": [
    "n = [int(x) for x in input(\"Enter list of numbers: \").split(\",\")]\n",
    "for num in n:\n",
    "    if num>0:\n",
    "        print(f\"{num} -> Positive Number\")\n",
    "    elif num<0:\n",
    "        print(f\"{num} -> Negative Number\")\n",
    "    else:\n",
    "        print(\"It's a Zero\")"
   ]
  },
  {
   "cell_type": "code",
   "execution_count": 7,
   "id": "5510d183",
   "metadata": {},
   "outputs": [
    {
     "name": "stdout",
     "output_type": "stream",
     "text": [
      "Enter year's: 2023,2024\n",
      "2023 is not a leap year\n",
      "2024 is a leap year\n"
     ]
    }
   ],
   "source": [
    "n = [int(year) for year in input(\"Enter year's: \").split(\",\")]\n",
    "leap_year = list(map(lambda x: f\"{x} is a leap year\" if x%4 == 0 and x%100 != 0 or x%400 == 0 else f\"{x} is not a leap year\",n))\n",
    "print(\"\\n\".join(leap_year))"
   ]
  },
  {
   "cell_type": "code",
   "execution_count": 13,
   "id": "9a96fdb5",
   "metadata": {},
   "outputs": [
    {
     "name": "stdout",
     "output_type": "stream",
     "text": [
      "Enter list of Numbers: 0,-5,1\n",
      "Max number is: 1\n"
     ]
    }
   ],
   "source": [
    "n = [int(num) for num in input(\"Enter list of Numbers: \").split(\",\")]\n",
    "print(f\"Max number is: {max(n)}\")"
   ]
  },
  {
   "cell_type": "code",
   "execution_count": 15,
   "id": "83dab607",
   "metadata": {},
   "outputs": [
    {
     "name": "stdout",
     "output_type": "stream",
     "text": [
      "Enter list of Numbers: 90.5,59.5,75,60\n",
      "Grade A\n",
      "Grade F\n",
      "Grade C\n",
      "Grade D\n"
     ]
    }
   ],
   "source": [
    "Grade = [float(num) for num in input(\"Enter list of Numbers: \").split(\",\")]\n",
    "for i in Grade:\n",
    "    if 90<=i<=100:\n",
    "        print(\"Grade A\")\n",
    "    elif 80<=i<=89:\n",
    "        print(\"Grade B\")\n",
    "    elif 70<=i<=79:\n",
    "        print(\"Grade C\")\n",
    "    elif 60<=i<=69:\n",
    "        print(\"Grade D\")\n",
    "    else:\n",
    "        print(\"Grade F\")"
   ]
  },
  {
   "cell_type": "code",
   "execution_count": 17,
   "id": "4c2e676c",
   "metadata": {},
   "outputs": [
    {
     "name": "stdout",
     "output_type": "stream",
     "text": [
      "Enter letter to find if it's vowel: e, y, i ,o,s\n",
      "e is vowel\n",
      "y is constant\n",
      "i is vowel\n",
      "o is vowel\n",
      "s is constant\n"
     ]
    }
   ],
   "source": [
    "list_of_letters=[letter.strip() for letter in input(\"Enter letter to find if it's vowel: \").split(\",\")]\n",
    "l=['a','e', 'i', 'o', 'u']\n",
    "vowel_letter = map(lambda x: f\"{x} is vowel\" if x in l else f\"{x} is constant\", list_of_letters)\n",
    "print(\"\\n\".join(vowel_letter))"
   ]
  },
  {
   "cell_type": "code",
   "execution_count": 19,
   "id": "f60f4375",
   "metadata": {},
   "outputs": [
    {
     "name": "stdout",
     "output_type": "stream",
     "text": [
      "Enter list of Numbers: 1,2,3,100,500\n",
      "Enter start range: 1\n",
      "Enter end range: 100\n",
      "1 is in Range\n",
      "2 is in Range\n",
      "3 is in Range\n",
      "100 is in Range\n",
      "500 is Out of Range\n"
     ]
    }
   ],
   "source": [
    "n = [int(num) for num in input(\"Enter list of Numbers: \").split(\",\")]\n",
    "start=int(input(\"Enter start range: \"))\n",
    "end=int(input(\"Enter end range: \"))\n",
    "Range_check = map(lambda x: f\"{x} is in Range\" if x in range(start,end+1) else f\"{x} is Out of Range\", n)\n",
    "print(\"\\n\".join(Range_check))"
   ]
  },
  {
   "cell_type": "code",
   "execution_count": 26,
   "id": "9271b554",
   "metadata": {},
   "outputs": [
    {
     "name": "stdout",
     "output_type": "stream",
     "text": [
      "Enter first num: 2\n",
      "Enter second num: 4\n",
      "the remainder is 2\n"
     ]
    }
   ],
   "source": [
    "num1=int(input(\"Enter first num: \"))\n",
    "num2=int(input(\"Enter second num: \"))\n",
    "if num1%num2==0:\n",
    "    print(\"Evenly divisible\")\n",
    "else:\n",
    "    print(\"the remainder is\",num1%num2)"
   ]
  },
  {
   "cell_type": "code",
   "execution_count": 25,
   "id": "37db507b",
   "metadata": {},
   "outputs": [
    {
     "name": "stdout",
     "output_type": "stream",
     "text": [
      "Enter the Age:24\n",
      "you can vote\n"
     ]
    }
   ],
   "source": [
    "age=int(input(\"Enter the Age:\"))\n",
    "if age>=18:\n",
    "    print(\"you can vote\")\n",
    "else:\n",
    "    print(\"you cant vote\")"
   ]
  },
  {
   "cell_type": "code",
   "execution_count": 24,
   "id": "d1eca0d2",
   "metadata": {},
   "outputs": [
    {
     "name": "stdout",
     "output_type": "stream",
     "text": [
      "Enter list of Numbers: 12,1,20\n",
      "Max number is: 1\n"
     ]
    }
   ],
   "source": [
    "n = [int(num) for num in input(\"Enter list of Numbers: \").split(\",\")]\n",
    "print(f\"Max number is: {min(n)}\")"
   ]
  },
  {
   "cell_type": "code",
   "execution_count": null,
   "id": "17a98f4c",
   "metadata": {},
   "outputs": [],
   "source": []
  }
 ],
 "metadata": {
  "kernelspec": {
   "display_name": "Python 3 (ipykernel)",
   "language": "python",
   "name": "python3"
  },
  "language_info": {
   "codemirror_mode": {
    "name": "ipython",
    "version": 3
   },
   "file_extension": ".py",
   "mimetype": "text/x-python",
   "name": "python",
   "nbconvert_exporter": "python",
   "pygments_lexer": "ipython3",
   "version": "3.11.5"
  }
 },
 "nbformat": 4,
 "nbformat_minor": 5
}
